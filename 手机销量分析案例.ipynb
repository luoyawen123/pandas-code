{
 "cells": [
  {
   "cell_type": "code",
   "execution_count": 21,
   "id": "3e148ed5-2a63-4d81-9691-21adad4d7ba7",
   "metadata": {},
   "outputs": [],
   "source": [
    "#加载数据\n",
    "import pandas as pd\n",
    "data = pd.read_csv('E:/Phone1.csv')"
   ]
  },
  {
   "cell_type": "code",
   "execution_count": 23,
   "id": "759f7c44-c047-4cb2-ad3f-e9dfd25c63f4",
   "metadata": {},
   "outputs": [
    {
     "data": {
      "text/plain": [
       "(41800, 22)"
      ]
     },
     "execution_count": 23,
     "metadata": {},
     "output_type": "execute_result"
    }
   ],
   "source": [
    "data.head()\n",
    "data.shape"
   ]
  },
  {
   "cell_type": "code",
   "execution_count": 25,
   "id": "3da44cf0-039e-43f2-b5b7-3b8efb628d9b",
   "metadata": {},
   "outputs": [
    {
     "data": {
      "text/plain": [
       "订单号            False\n",
       "订单日期           False\n",
       "年               True\n",
       "月               True\n",
       "地区名字           False\n",
       "省份名字           False\n",
       "城市名字           False\n",
       "品牌             False\n",
       "型号             False\n",
       "运行内存           False\n",
       "机身内存           False\n",
       "数量             False\n",
       "用户名            False\n",
       "用户姓名           False\n",
       "年龄             False\n",
       "年龄段             True\n",
       "性别             False\n",
       "手机号            False\n",
       "价格             False\n",
       "销售额            False\n",
       "Unnamed: 20     True\n",
       "Unnamed: 21     True\n",
       "dtype: bool"
      ]
     },
     "execution_count": 25,
     "metadata": {},
     "output_type": "execute_result"
    }
   ],
   "source": [
    "data.isnull().any(axis=0)  #年、月和年龄段三列存在缺失数据"
   ]
  },
  {
   "cell_type": "code",
   "execution_count": 69,
   "id": "0ab91edc-7e28-4f63-a1f1-99935c642eaa",
   "metadata": {},
   "outputs": [
    {
     "name": "stdout",
     "output_type": "stream",
     "text": [
      "Unnamed: 21 1.0\n"
     ]
    }
   ],
   "source": [
    "#查看缺失数据的占比\n",
    "for col in data.columns:\n",
    "    if data[col].isnull().sum() >0: #条件满足则表示col列存在空值\n",
    "        #计算col列的空值占比\n",
    "        null_count = data[col].isnull().sum() #空值的数量\n",
    "        null_rate = null_count / data[col].size\n",
    "print(col,null_rate)"
   ]
  },
  {
   "cell_type": "code",
   "execution_count": 71,
   "id": "f42a8060-fd36-42f9-9191-3fb91f14427c",
   "metadata": {},
   "outputs": [],
   "source": [
    "data['订单日期'] = pd.to_datetime(data['订单日期'])\n",
    "data['年'] = data['订单日期'].dt.year"
   ]
  },
  {
   "cell_type": "code",
   "execution_count": 73,
   "id": "2532cdf6-aad8-4243-9315-ed1e17a8e9bb",
   "metadata": {},
   "outputs": [],
   "source": [
    "#可以将订单日期中的年份和月份单独取出来，赋值到年和月两列中\n",
    "data['年'] = data['订单日期'].dt.year\n",
    "def get_month(d):\n",
    "    d =str(d)\n",
    "    year =d.split('-')[0]\n",
    "    month =d.split('-')[1]\n",
    "    return year + '-'+ month\n",
    "data['月'] = data['订单日期'].map(get_month)"
   ]
  },
  {
   "cell_type": "code",
   "execution_count": 51,
   "id": "0dd03704-7b43-4729-aaf5-2dabf0e12901",
   "metadata": {},
   "outputs": [],
   "source": [
    "data['年龄'].describe()    #发现年龄是在16-49之间\n",
    "#人为制定几个年龄段：16-25，26-35，36-49\n",
    "data['年龄段']=pd.cut(data['年龄'],bins=[16,25,35,49])\n",
    "#bins表示生成几个箱子：16-25，26-35，36-49"
   ]
  },
  {
   "cell_type": "code",
   "execution_count": 55,
   "id": "d78a2fbf-cf23-443e-b63a-549b764ad01f",
   "metadata": {},
   "outputs": [
    {
     "name": "stdout",
     "output_type": "stream",
     "text": [
      "         累计销量     累计销售额\n",
      "品牌                     \n",
      "vivo    20601  60274031\n",
      "小米      17889  41897903\n",
      "iphone  14954  80227880\n",
      "华为      14623  48727562\n",
      "三星      13551  64473019\n"
     ]
    }
   ],
   "source": [
    "# 查看不同品牌手机的累计销量和累计销售额，并对累计销量进行降序排列\n",
    "result = data.groupby(by='品牌')[['数量', '销售额']].sum()\n",
    "result.rename(\n",
    "    columns={'数量': '累计销量', '销售额': '累计销售额'},\n",
    "    inplace=True\n",
    ")\n",
    "result.sort_values(by='累计销量', ascending=False, inplace=True)\n",
    "\n",
    "# 这里可以根据需要添加代码来查看处理后的结果，比如打印前几行\n",
    "print(result.head())"
   ]
  },
  {
   "cell_type": "code",
   "execution_count": 61,
   "id": "dbd557cc-44a9-496e-af5d-5f52c4abeb91",
   "metadata": {},
   "outputs": [
    {
     "name": "stdout",
     "output_type": "stream",
     "text": [
      "          月    数量\n",
      "26  2020-03  5647\n",
      "11  2018-12  5643\n",
      "0   2018-01  5613\n",
      "18  2019-07  5604\n",
      "7   2018-08  5574\n",
      "16  2019-05  5559\n",
      "12  2019-01  5542\n",
      "10  2018-11  5526\n",
      "21  2019-10  5491\n",
      "14  2019-03  5488\n",
      "5   2018-06  5478\n",
      "15  2019-04  5471\n",
      "4   2018-05  5467\n",
      "2   2018-03  5447\n",
      "22  2019-11  5434\n",
      "8   2018-09  5425\n",
      "23  2019-12  5417\n",
      "3   2018-04  5392\n",
      "6   2018-07  5383\n",
      "25  2020-02  5379\n",
      "9   2018-10  5342\n",
      "19  2019-08  5310\n",
      "24  2020-01  5265\n",
      "17  2019-06  5255\n",
      "20  2019-09  5219\n",
      "1   2018-02  5193\n",
      "13  2019-02  4989\n"
     ]
    }
   ],
   "source": [
    "result = data.groupby(by='月')['数量'].sum().reset_index()\n",
    "result.sort_values(by='数量', ascending=False, inplace=True)\n",
    "print(result)"
   ]
  },
  {
   "cell_type": "code",
   "execution_count": 63,
   "id": "31a9aae4-1b45-42fb-9279-6a9ff40b0e44",
   "metadata": {},
   "outputs": [
    {
     "name": "stderr",
     "output_type": "stream",
     "text": [
      "C:\\Users\\luoya\\AppData\\Local\\Temp\\ipykernel_33960\\4197737856.py:2: FutureWarning: The default of observed=False is deprecated and will be changed to True in a future version of pandas. Pass observed=False to retain current behavior or observed=True to adopt the future default and silence this warning.\n",
      "  data.groupby(by='年龄段')['订单号'].count()\n"
     ]
    },
    {
     "data": {
      "text/plain": [
       "年龄段\n",
       "(16, 25]    21229\n",
       "(25, 35]    19595\n",
       "(35, 49]      462\n",
       "Name: 订单号, dtype: int64"
      ]
     },
     "execution_count": 63,
     "metadata": {},
     "output_type": "execute_result"
    }
   ],
   "source": [
    "#不同年龄段的购买力\n",
    "data.groupby(by='年龄段')['订单号'].count()"
   ]
  },
  {
   "cell_type": "code",
   "execution_count": 65,
   "id": "3147efea-ee05-4ffd-ba02-0389f3d4aeff",
   "metadata": {},
   "outputs": [
    {
     "data": {
      "text/plain": [
       "城市名字\n",
       "上海市     6326\n",
       "北京市     6301\n",
       "张家口市     259\n",
       "秦皇岛市     249\n",
       "石家庄市     248\n",
       "        ... \n",
       "潍坊市       69\n",
       "湛江市       69\n",
       "兰州市       68\n",
       "漳州市       66\n",
       "许昌市       65\n",
       "Name: 订单号, Length: 292, dtype: int64"
      ]
     },
     "execution_count": 65,
     "metadata": {},
     "output_type": "execute_result"
    }
   ],
   "source": [
    "#查看不同城市的购买力情况\n",
    "data.groupby(by='城市名字')['订单号'].count().sort_values(ascending=False)"
   ]
  },
  {
   "cell_type": "code",
   "execution_count": 67,
   "id": "57a70fae-9a00-4ccd-a925-997066758b13",
   "metadata": {
    "scrolled": true
   },
   "outputs": [
    {
     "data": {
      "text/html": [
       "<div>\n",
       "<style scoped>\n",
       "    .dataframe tbody tr th:only-of-type {\n",
       "        vertical-align: middle;\n",
       "    }\n",
       "\n",
       "    .dataframe tbody tr th {\n",
       "        vertical-align: top;\n",
       "    }\n",
       "\n",
       "    .dataframe thead th {\n",
       "        text-align: right;\n",
       "    }\n",
       "</style>\n",
       "<table border=\"1\" class=\"dataframe\">\n",
       "  <thead>\n",
       "    <tr style=\"text-align: right;\">\n",
       "      <th></th>\n",
       "      <th></th>\n",
       "      <th>max</th>\n",
       "      <th>min</th>\n",
       "    </tr>\n",
       "    <tr>\n",
       "      <th>品牌</th>\n",
       "      <th>型号</th>\n",
       "      <th></th>\n",
       "      <th></th>\n",
       "    </tr>\n",
       "  </thead>\n",
       "  <tbody>\n",
       "    <tr>\n",
       "      <th rowspan=\"5\" valign=\"top\">iphone</th>\n",
       "      <th>iPhone 11</th>\n",
       "      <td>5999</td>\n",
       "      <td>5999</td>\n",
       "    </tr>\n",
       "    <tr>\n",
       "      <th>iPhone 11 Pro</th>\n",
       "      <td>9999</td>\n",
       "      <td>9999</td>\n",
       "    </tr>\n",
       "    <tr>\n",
       "      <th>iPhone 11 Pro Max</th>\n",
       "      <td>10899</td>\n",
       "      <td>10899</td>\n",
       "    </tr>\n",
       "    <tr>\n",
       "      <th>iPhone 6s Plus</th>\n",
       "      <td>1198</td>\n",
       "      <td>1198</td>\n",
       "    </tr>\n",
       "    <tr>\n",
       "      <th>iPhone 7</th>\n",
       "      <td>2899</td>\n",
       "      <td>2899</td>\n",
       "    </tr>\n",
       "    <tr>\n",
       "      <th>...</th>\n",
       "      <th>...</th>\n",
       "      <td>...</td>\n",
       "      <td>...</td>\n",
       "    </tr>\n",
       "    <tr>\n",
       "      <th rowspan=\"5\" valign=\"top\">魅族</th>\n",
       "      <th>魅族16Xs</th>\n",
       "      <td>1499</td>\n",
       "      <td>1499</td>\n",
       "    </tr>\n",
       "    <tr>\n",
       "      <th>魅族16sPro</th>\n",
       "      <td>2959</td>\n",
       "      <td>2959</td>\n",
       "    </tr>\n",
       "    <tr>\n",
       "      <th>魅族16spro</th>\n",
       "      <td>2959</td>\n",
       "      <td>2959</td>\n",
       "    </tr>\n",
       "    <tr>\n",
       "      <th>魅族16th</th>\n",
       "      <td>1988</td>\n",
       "      <td>1988</td>\n",
       "    </tr>\n",
       "    <tr>\n",
       "      <th>魅族Note9 s</th>\n",
       "      <td>1026</td>\n",
       "      <td>1026</td>\n",
       "    </tr>\n",
       "  </tbody>\n",
       "</table>\n",
       "<p>114 rows × 2 columns</p>\n",
       "</div>"
      ],
      "text/plain": [
       "                            max    min\n",
       "品牌     型号                             \n",
       "iphone iPhone 11           5999   5999\n",
       "       iPhone 11 Pro       9999   9999\n",
       "       iPhone 11 Pro Max  10899  10899\n",
       "       iPhone 6s Plus      1198   1198\n",
       "       iPhone 7            2899   2899\n",
       "...                         ...    ...\n",
       "魅族     魅族16Xs              1499   1499\n",
       "       魅族16sPro            2959   2959\n",
       "       魅族16spro            2959   2959\n",
       "       魅族16th              1988   1988\n",
       "       魅族Note9 s           1026   1026\n",
       "\n",
       "[114 rows x 2 columns]"
      ]
     },
     "execution_count": 67,
     "metadata": {},
     "output_type": "execute_result"
    }
   ],
   "source": [
    "#查看不同品牌的不同型号的最高和最低价格是多少\n",
    "data.groupby(by=['品牌','型号'])['价格'].agg(['max','min'])"
   ]
  },
  {
   "cell_type": "code",
   "execution_count": null,
   "id": "85de9f9a-9c09-487d-b7b2-d3364fe452cd",
   "metadata": {},
   "outputs": [],
   "source": []
  }
 ],
 "metadata": {
  "kernelspec": {
   "display_name": "Python 3 (ipykernel)",
   "language": "python",
   "name": "python3"
  },
  "language_info": {
   "codemirror_mode": {
    "name": "ipython",
    "version": 3
   },
   "file_extension": ".py",
   "mimetype": "text/x-python",
   "name": "python",
   "nbconvert_exporter": "python",
   "pygments_lexer": "ipython3",
   "version": "3.12.7"
  }
 },
 "nbformat": 4,
 "nbformat_minor": 5
}
